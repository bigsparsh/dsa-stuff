{
 "cells": [
  {
   "cell_type": "code",
   "execution_count": 110,
   "id": "79be0eb5-1948-455f-a048-288c46a122f2",
   "metadata": {},
   "outputs": [],
   "source": [
    "matrix = [[1], [2], [3], [4]]"
   ]
  },
  {
   "cell_type": "code",
   "execution_count": 111,
   "id": "47b72ad9-a735-49b7-86de-27a61b8ef427",
   "metadata": {},
   "outputs": [
    {
     "name": "stdout",
     "output_type": "stream",
     "text": [
      "4\n"
     ]
    }
   ],
   "source": [
    "print (len(matrix))"
   ]
  },
  {
   "cell_type": "code",
   "execution_count": 112,
   "id": "3d694cfe-e316-4728-a96d-66d770dc1b75",
   "metadata": {},
   "outputs": [
    {
     "name": "stdout",
     "output_type": "stream",
     "text": [
      "[1, 2, 3, 4]\n"
     ]
    }
   ],
   "source": [
    "x = y = 0\n",
    "n = len(matrix)\n",
    "m = len(matrix[0])\n",
    "out_index = 0\n",
    "output = []\n",
    "for i in range(n):\n",
    "    if n == 1:\n",
    "        output.append(matrix[0])\n",
    "        break\n",
    "    x = i\n",
    "    y = 0\n",
    "    temp = []\n",
    "    while True:\n",
    "        temp.append(matrix[x][y])\n",
    "        x -= 1\n",
    "        y += 1\n",
    "        if y < 0 or x < (1, 0) [m % 2 == 0] or  x > n-1 or y > m-1:\n",
    "            break;\n",
    "    output.append(temp)\n",
    "for i in range(1, m):\n",
    "    if n == 1:\n",
    "        break\n",
    "    x = n - 1\n",
    "    y = i\n",
    "    temp = []\n",
    "    while True:\n",
    "        temp.append(matrix[x][y])\n",
    "        x -= 1\n",
    "        y += 1\n",
    "        if y < 1 or x < n-m+1 or  x > n-1 or y > m-1:\n",
    "            break;\n",
    "    output.append(temp)\n",
    "\n",
    "count = 1\n",
    "for i in output:\n",
    "    if count % 2 == 0:\n",
    "        i.reverse()\n",
    "    count += 1\n",
    "print([item for sublist in output for item in sublist])"
   ]
  },
  {
   "cell_type": "code",
   "execution_count": null,
   "id": "77916795-7a23-46e9-9067-bcf48e1cde03",
   "metadata": {},
   "outputs": [],
   "source": []
  }
 ],
 "metadata": {
  "kernelspec": {
   "display_name": "Python 3 (ipykernel)",
   "language": "python",
   "name": "python3"
  },
  "language_info": {
   "codemirror_mode": {
    "name": "ipython",
    "version": 3
   },
   "file_extension": ".py",
   "mimetype": "text/x-python",
   "name": "python",
   "nbconvert_exporter": "python",
   "pygments_lexer": "ipython3",
   "version": "3.12.6"
  }
 },
 "nbformat": 4,
 "nbformat_minor": 5
}
